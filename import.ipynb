{
 "cells": [
  {
   "cell_type": "markdown",
   "metadata": {},
   "source": [
    "# Import Schema"
   ]
  },
  {
   "cell_type": "code",
   "execution_count": 9,
   "metadata": {},
   "outputs": [
    {
     "name": "stdout",
     "output_type": "stream",
     "text": [
      "2.2.3\n",
      "[{'VARIABLE NAME': '_id', 'DESCRIPTION': 'Worker ID', 'DATA TYPE': 'ObjectId', 'VALIDATION RULES': nan, 'COMMENT': 'Primary identifier'}, {'VARIABLE NAME': 'NAME', 'DESCRIPTION': 'Worker Name', 'DATA TYPE': 'String', 'VALIDATION RULES': nan, 'COMMENT': nan}, {'VARIABLE NAME': 'CITY', 'DESCRIPTION': 'Worker City', 'DATA TYPE': 'String', 'VALIDATION RULES': nan, 'COMMENT': nan}, {'VARIABLE NAME': 'ASSIGNED_CLIENT_ID', 'DESCRIPTION': 'Assigned Client', 'DATA TYPE': 'ObjectId', 'VALIDATION RULES': nan, 'COMMENT': 'Links to Clients _id'}, {'VARIABLE NAME': 'ATTENDANCE', 'DESCRIPTION': 'Attendance Data', 'DATA TYPE': 'Array[Attendance]', 'VALIDATION RULES': nan, 'COMMENT': nan}, {'VARIABLE NAME': 'STATUS', 'DESCRIPTION': 'Labourer Status', 'DATA TYPE': nan, 'VALIDATION RULES': '[\"Available\", \"Absent\", \"Assigned\"]', 'COMMENT': nan}]\n"
     ]
    },
    {
     "ename": "ValueError",
     "evalue": "dictionary update sequence element #0 has length 9; 2 is required",
     "output_type": "error",
     "traceback": [
      "\u001b[1;31m---------------------------------------------------------------------------\u001b[0m",
      "\u001b[1;31mValueError\u001b[0m                                Traceback (most recent call last)",
      "Cell \u001b[1;32mIn[9], line 46\u001b[0m\n\u001b[0;32m     42\u001b[0m             schema[\u001b[38;5;124m'\u001b[39m\u001b[38;5;124mproperties\u001b[39m\u001b[38;5;124m'\u001b[39m][field_name]\u001b[38;5;241m.\u001b[39mupdate(validation_rules)\n\u001b[0;32m     44\u001b[0m     \u001b[38;5;28;01mreturn\u001b[39;00m schema\n\u001b[1;32m---> 46\u001b[0m json_schema \u001b[38;5;241m=\u001b[39m \u001b[43mconvert_to_json_schema\u001b[49m\u001b[43m(\u001b[49m\u001b[43mdf\u001b[49m\u001b[43m)\u001b[49m\n",
      "Cell \u001b[1;32mIn[9], line 42\u001b[0m, in \u001b[0;36mconvert_to_json_schema\u001b[1;34m(df)\u001b[0m\n\u001b[0;32m     39\u001b[0m         schema[\u001b[38;5;124m'\u001b[39m\u001b[38;5;124mrequired\u001b[39m\u001b[38;5;124m'\u001b[39m]\u001b[38;5;241m.\u001b[39mappend(field_name)\n\u001b[0;32m     41\u001b[0m     \u001b[38;5;28;01mif\u001b[39;00m validation_rules:\n\u001b[1;32m---> 42\u001b[0m         \u001b[43mschema\u001b[49m\u001b[43m[\u001b[49m\u001b[38;5;124;43m'\u001b[39;49m\u001b[38;5;124;43mproperties\u001b[39;49m\u001b[38;5;124;43m'\u001b[39;49m\u001b[43m]\u001b[49m\u001b[43m[\u001b[49m\u001b[43mfield_name\u001b[49m\u001b[43m]\u001b[49m\u001b[38;5;241;43m.\u001b[39;49m\u001b[43mupdate\u001b[49m\u001b[43m(\u001b[49m\u001b[43mvalidation_rules\u001b[49m\u001b[43m)\u001b[49m\n\u001b[0;32m     44\u001b[0m \u001b[38;5;28;01mreturn\u001b[39;00m schema\n",
      "\u001b[1;31mValueError\u001b[0m: dictionary update sequence element #0 has length 9; 2 is required"
     ]
    }
   ],
   "source": [
    "import pandas as pd\n",
    "import json\n",
    "\n",
    "print(pd.__version__)\n",
    "\n",
    "# Create a DataFrame\n",
    "\n",
    "schema_path = \"schema/Attendance Schema - Workers.csv\"\n",
    "\n",
    "df = pd.read_csv(schema_path)\n",
    "\n",
    "data = df.to_dict(orient='records')\n",
    "\n",
    "print(data)\n",
    "\n",
    "def convert_to_json_schema(df):\n",
    "    schema = {\n",
    "        \"bsonType\": \"object\",\n",
    "        \"required\": [],\n",
    "        \"properties\": {}\n",
    "    }\n",
    "    \n",
    "    for _, row in df.iterrows():\n",
    "        field_name = row['VARIABLE NAME']\n",
    "        data_type = str(row['DATA TYPE'])  # Ensure data_type is a string\n",
    "        description = row['DESCRIPTION']\n",
    "        \n",
    "        if pd.notna(row['VALIDATION RULES']):\n",
    "            validation_rules = json.loads(row['VALIDATION RULES'])\n",
    "        else:\n",
    "            validation_rules = {}\n",
    "        \n",
    "        schema['properties'][field_name] = {\n",
    "            \"bsonType\": data_type.lower(),\n",
    "            \"description\": description\n",
    "        }\n",
    "        \n",
    "        if field_name not in schema['required']:\n",
    "            schema['required'].append(field_name)\n",
    "        \n",
    "        if validation_rules:\n",
    "            schema['properties'][field_name].update(validation_rules)\n",
    "    \n",
    "    return schema\n",
    "\n",
    "json_schema = convert_to_json_schema(df)"
   ]
  },
  {
   "cell_type": "code",
   "execution_count": 3,
   "metadata": {},
   "outputs": [
    {
     "ename": "ModuleNotFoundError",
     "evalue": "No module named 'dotenv'",
     "output_type": "error",
     "traceback": [
      "\u001b[1;31m---------------------------------------------------------------------------\u001b[0m",
      "\u001b[1;31mModuleNotFoundError\u001b[0m                       Traceback (most recent call last)",
      "Cell \u001b[1;32mIn[3], line 4\u001b[0m\n\u001b[0;32m      2\u001b[0m \u001b[38;5;28;01mfrom\u001b[39;00m \u001b[38;5;21;01mpymongo\u001b[39;00m \u001b[38;5;28;01mimport\u001b[39;00m MongoClient\n\u001b[0;32m      3\u001b[0m \u001b[38;5;28;01mfrom\u001b[39;00m \u001b[38;5;21;01mpymongo\u001b[39;00m\u001b[38;5;21;01m.\u001b[39;00m\u001b[38;5;21;01merrors\u001b[39;00m \u001b[38;5;28;01mimport\u001b[39;00m BulkWriteError\n\u001b[1;32m----> 4\u001b[0m \u001b[38;5;28;01mfrom\u001b[39;00m \u001b[38;5;21;01mdotenv\u001b[39;00m \u001b[38;5;28;01mimport\u001b[39;00m load_dotenv\n\u001b[0;32m      5\u001b[0m \u001b[38;5;28;01mimport\u001b[39;00m \u001b[38;5;21;01mos\u001b[39;00m\n\u001b[0;32m      7\u001b[0m \u001b[38;5;66;03m# Load environment variables from .env file\u001b[39;00m\n",
      "\u001b[1;31mModuleNotFoundError\u001b[0m: No module named 'dotenv'"
     ]
    }
   ],
   "source": [
    "import pandas as pd\n",
    "from pymongo import MongoClient\n",
    "from pymongo.errors import BulkWriteError\n",
    "from dotenv import load_dotenv\n",
    "import os\n",
    "\n",
    "# Load environment variables from .env file\n",
    "load_dotenv()\n",
    "\n",
    "# Get MongoDB URI from environment variables\n",
    "MONGO_URI = os.getenv(\"MONGO_URI\")\n",
    "\n",
    "# Initialize MongoDB client and database\n",
    "client = MongoClient(MONGO_URI)\n",
    "db = client['Attendance_DB']\n",
    "\n",
    "# Load the CSV data into a DataFrame\n",
    "csv_file_path = \"schema/sample_attendance_data.csv\"\n",
    "df = pd.read_csv(csv_file_path)\n",
    "\n",
    "# Define a function to upload data to MongoDB\n",
    "def upload_to_mongodb(df, collection_name):\n",
    "    collection = db[collection_name]\n",
    "    data = df.to_dict(orient='records')\n",
    "    try:\n",
    "        result = collection.insert_many(data)\n",
    "        return result.inserted_ids\n",
    "    except BulkWriteError as bwe:\n",
    "        print(f\"Bulk write error: {bwe.details}\")\n",
    "        return []\n",
    "\n",
    "# Upload the data to the 'workers' collection\n",
    "collection_name = \"workers\"\n",
    "inserted_ids = upload_to_mongodb(df, collection_name)\n",
    "print(f\"Inserted document IDs: {inserted_ids}\")"
   ]
  }
 ],
 "metadata": {
  "kernelspec": {
   "display_name": "Attendance-Management-g4E92F36",
   "language": "python",
   "name": "python3"
  },
  "language_info": {
   "codemirror_mode": {
    "name": "ipython",
    "version": 3
   },
   "file_extension": ".py",
   "mimetype": "text/x-python",
   "name": "python",
   "nbconvert_exporter": "python",
   "pygments_lexer": "ipython3",
   "version": "3.12.6"
  }
 },
 "nbformat": 4,
 "nbformat_minor": 2
}
